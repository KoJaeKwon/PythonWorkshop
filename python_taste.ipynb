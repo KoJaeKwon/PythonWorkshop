{
 "cells": [
  {
   "cell_type": "code",
   "execution_count": 3,
   "id": "75ec4ac0",
   "metadata": {},
   "outputs": [],
   "source": [
    "### File Write\n",
    "data = \"hello\"\n",
    "with open(\"test.txt\", \"w\") as fp:\n",
    "    fp.write(data)"
   ]
  },
  {
   "cell_type": "code",
   "execution_count": 4,
   "id": "acb378aa",
   "metadata": {},
   "outputs": [
    {
     "name": "stdout",
     "output_type": "stream",
     "text": [
      "파이썬 x쉽네 ?\n",
      "hello\n"
     ]
    }
   ],
   "source": [
    "###File Read\n",
    "with open(\"test.txt\", \"r\") as fp:\n",
    "    print(\"파이썬 x쉽네 ?\")\n",
    "    print(fp.read())"
   ]
  },
  {
   "cell_type": "code",
   "execution_count": 5,
   "id": "759f6a6b",
   "metadata": {},
   "outputs": [
    {
     "name": "stdout",
     "output_type": "stream",
     "text": [
      " C 드라이브의 볼륨에는 이름이 없습니다.\n",
      " 볼륨 일련 번호: DC65-A2F5\n",
      "\n",
      " C:\\Users\\KoJeaKwon\\python_works\\PythonWorkshop 디렉터리\n",
      "\n",
      "2021-09-17  오후 06:08    <DIR>          .\n",
      "2021-09-17  오후 06:08    <DIR>          ..\n",
      "2021-09-17  오후 05:48             1,928 .gitignore\n",
      "2021-09-17  오후 06:05    <DIR>          .ipynb_checkpoints\n",
      "2021-09-17  오후 06:07             2,631 python_taste.ipynb\n",
      "2021-09-17  오후 05:48                51 README.md\n",
      "2021-09-17  오후 06:08                 5 test.txt\n",
      "               4개 파일               4,615 바이트\n",
      "               3개 디렉터리  145,108,021,248 바이트 남음\n"
     ]
    }
   ],
   "source": [
    "!dir"
   ]
  },
  {
   "cell_type": "code",
   "execution_count": 6,
   "id": "5a31c6fd",
   "metadata": {},
   "outputs": [
    {
     "name": "stdout",
     "output_type": "stream",
     "text": [
      "hello\n"
     ]
    }
   ],
   "source": [
    "# Windows\n",
    "!type test.txt"
   ]
  },
  {
   "cell_type": "code",
   "execution_count": null,
   "id": "3c551428",
   "metadata": {},
   "outputs": [],
   "source": []
  }
 ],
 "metadata": {
  "kernelspec": {
   "display_name": "Python 3",
   "language": "python",
   "name": "python3"
  },
  "language_info": {
   "codemirror_mode": {
    "name": "ipython",
    "version": 3
   },
   "file_extension": ".py",
   "mimetype": "text/x-python",
   "name": "python",
   "nbconvert_exporter": "python",
   "pygments_lexer": "ipython3",
   "version": "3.8.8"
  }
 },
 "nbformat": 4,
 "nbformat_minor": 5
}
